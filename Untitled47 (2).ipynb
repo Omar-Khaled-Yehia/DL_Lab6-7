{
  "nbformat": 4,
  "nbformat_minor": 0,
  "metadata": {
    "colab": {
      "provenance": [],
      "gpuType": "T4"
    },
    "kernelspec": {
      "name": "python3",
      "display_name": "Python 3"
    },
    "language_info": {
      "name": "python"
    },
    "accelerator": "GPU"
  },
  "cells": [
    {
      "cell_type": "code",
      "execution_count": 1,
      "metadata": {
        "colab": {
          "base_uri": "https://localhost:8080/"
        },
        "id": "fPAKhCmOhkuv",
        "outputId": "9f3d03d5-881c-42f2-dbb0-cc6c332dbbf2"
      },
      "outputs": [
        {
          "output_type": "stream",
          "name": "stdout",
          "text": [
            "Requirement already satisfied: kagglehub in c:\\users\\omar kh\\miniconda3\\envs\\lab6and7\\lib\\site-packages (0.3.4)\n",
            "Requirement already satisfied: packaging in c:\\users\\omar kh\\miniconda3\\envs\\lab6and7\\lib\\site-packages (from kagglehub) (24.2)\n",
            "Requirement already satisfied: requests in c:\\users\\omar kh\\miniconda3\\envs\\lab6and7\\lib\\site-packages (from kagglehub) (2.32.3)\n",
            "Requirement already satisfied: tqdm in c:\\users\\omar kh\\miniconda3\\envs\\lab6and7\\lib\\site-packages (from kagglehub) (4.67.1)\n",
            "Requirement already satisfied: charset-normalizer<4,>=2 in c:\\users\\omar kh\\miniconda3\\envs\\lab6and7\\lib\\site-packages (from requests->kagglehub) (3.4.0)\n",
            "Requirement already satisfied: idna<4,>=2.5 in c:\\users\\omar kh\\miniconda3\\envs\\lab6and7\\lib\\site-packages (from requests->kagglehub) (3.10)\n",
            "Requirement already satisfied: urllib3<3,>=1.21.1 in c:\\users\\omar kh\\miniconda3\\envs\\lab6and7\\lib\\site-packages (from requests->kagglehub) (2.2.3)\n",
            "Requirement already satisfied: certifi>=2017.4.17 in c:\\users\\omar kh\\miniconda3\\envs\\lab6and7\\lib\\site-packages (from requests->kagglehub) (2024.8.30)\n",
            "Requirement already satisfied: colorama in c:\\users\\omar kh\\miniconda3\\envs\\lab6and7\\lib\\site-packages (from tqdm->kagglehub) (0.4.6)\n",
            "Path to dataset files: C:\\Users\\Omar Kh\\.cache\\kagglehub\\datasets\\adityajn105\\flickr8k\\versions\\1\n"
          ]
        }
      ],
      "source": [
        "# Install kagglehub to download the dataset\n",
        "!pip install kagglehub\n",
        "import kagglehub\n",
        "\n",
        "# Download Flickr8k dataset\n",
        "path = kagglehub.dataset_download(\"adityajn105/flickr8k\")\n",
        "print(\"Path to dataset files:\", path)\n"
      ]
    },
    {
      "cell_type": "code",
      "source": [
        "import os\n",
        "import cv2\n",
        "import numpy as np\n",
        "from tensorflow.keras.applications import InceptionV3\n",
        "from tensorflow.keras.applications.inception_v3 import preprocess_input\n",
        "from tensorflow.keras.models import Model\n",
        "from tensorflow.keras.preprocessing.image import img_to_array, load_img\n",
        "\n",
        "# Initialize InceptionV3 model pre-trained on ImageNet\n",
        "base_model = InceptionV3(weights=\"imagenet\")\n",
        "model = Model(inputs=base_model.input, outputs=base_model.layers[-2].output)"
      ],
      "metadata": {
        "id": "F2uIePx_IOYE"
      },
      "execution_count": 2,
      "outputs": []
    },
    {
      "cell_type": "code",
      "source": [
        "\n",
        "\n",
        "# # Define a function to preprocess and extract image features\n",
        "# def preprocess_image(image_path):\n",
        "#     img = load_img(image_path, target_size=(299, 299))  # Resize to InceptionV3 input size\n",
        "#     img = img_to_array(img)\n",
        "#     img = np.expand_dims(img, axis=0)\n",
        "#     img = preprocess_input(img)\n",
        "#     return img\n",
        "\n",
        "# def extract_features(directory):\n",
        "#     features = {}\n",
        "#     for img_name in os.listdir(directory):\n",
        "#         img_path = os.path.join(directory, img_name)\n",
        "#         try:\n",
        "#             img = preprocess_image(img_path)\n",
        "#             feature = model.predict(img, verbose=0)\n",
        "#             features[img_name] = feature\n",
        "#         except Exception as e:\n",
        "#             print(f\"Error processing {img_name}: {e}\")\n",
        "#     return features\n",
        "\n",
        "# # Extract features from Flickr8k images and save as numpy arrays\n",
        "# image_dir = os.path.join(path, \"Images\")\n",
        "# features = extract_features(image_dir)\n",
        "\n",
        "# # Save the extracted features for reuse\n",
        "# np.save(\"image_features.npy\", features)\n"
      ],
      "metadata": {
        "id": "bQvAsRO-hpbZ"
      },
      "execution_count": 3,
      "outputs": []
    },
    {
      "cell_type": "code",
      "source": [],
      "metadata": {
        "id": "tN8XFj0jvCyh"
      },
      "execution_count": 3,
      "outputs": []
    },
    {
      "cell_type": "code",
      "source": [
        "def clean_caption(caption):\n",
        "    \"\"\"\n",
        "    Cleans a caption by removing punctuation and converting to lowercase.\n",
        "\n",
        "    Args:\n",
        "        caption: The input caption string.\n",
        "\n",
        "    Returns:\n",
        "        The cleaned caption string.\n",
        "    \"\"\"\n",
        "    import re\n",
        "    caption = caption.lower()\n",
        "    caption = re.sub(r\"[^a-zA-Z0-9 ]\", \"\", caption)\n",
        "    return caption\n",
        "\n",
        "\n",
        "def load_captions(file_path):\n",
        "    captions = {}\n",
        "    with open(file_path, \"r\", encoding=\"utf-8\") as file:\n",
        "        for line in file:\n",
        "            line = line.strip()\n",
        "            if not line or \",\" not in line:  # Skip empty or malformed lines\n",
        "                print(\"Skipped line (empty or invalid):\", line)\n",
        "                continue\n",
        "            image_id, caption = line.split(\",\", 1)  # Split at the first comma\n",
        "            if image_id not in captions:\n",
        "                captions[image_id] = []\n",
        "            captions[image_id].append(caption.strip())\n",
        "    print(\"Number of processed captions:\", len(captions))\n",
        "    return captions\n",
        "\n",
        "\n",
        "# Load and clean captions\n",
        "captions_file = os.path.join(path, \"captions.txt\")\n",
        "captions = load_captions(captions_file)\n",
        "for image_id, caption_list in captions.items():\n",
        "    captions[image_id] = [clean_caption(c) for c in caption_list]\n",
        "\n",
        "# Add <start> and <end> tokens to captions\n",
        "for image_id in captions.keys():\n",
        "    captions[image_id] = [f\"<start> {c} <end>\" for c in captions[image_id]]\n",
        "\n",
        "print(\"Number of images with captions:\", len(captions))"
      ],
      "metadata": {
        "colab": {
          "base_uri": "https://localhost:8080/"
        },
        "id": "rNeBlfSkh1zs",
        "outputId": "54b4f4a1-e306-449c-e157-805f06f53918"
      },
      "execution_count": 4,
      "outputs": [
        {
          "output_type": "stream",
          "name": "stdout",
          "text": [
            "Number of processed captions: 8092\n",
            "Number of images with captions: 8092\n"
          ]
        }
      ]
    },
    {
      "cell_type": "code",
      "source": [
        "# with open(captions_file, \"r\", encoding=\"utf-8\") as file:\n",
        "#     for line in file:\n",
        "#         print(\"Raw line:\", line.strip())  # Debug raw lines\n"
      ],
      "metadata": {
        "collapsed": true,
        "id": "yEFl-ytXtcoo"
      },
      "execution_count": 5,
      "outputs": []
    },
    {
      "cell_type": "code",
      "source": [
        "captions_file = os.path.join(path, \"captions.txt\")\n",
        "captions = load_captions(captions_file)\n",
        "\n",
        "print(f\"Number of images with captions: {len(captions)}\")\n",
        "# Print a few examples to verify\n",
        "for image_id, caption_list in list(captions.items())[:5]:\n",
        "    print(f\"Image ID: {image_id} | Captions: {caption_list}\")\n"
      ],
      "metadata": {
        "colab": {
          "base_uri": "https://localhost:8080/"
        },
        "id": "ixlVC2Oite0p",
        "outputId": "2c57b5cc-655b-4e7e-ba80-4fa1c1e034da"
      },
      "execution_count": 6,
      "outputs": [
        {
          "output_type": "stream",
          "name": "stdout",
          "text": [
            "Number of processed captions: 8092\n",
            "Number of images with captions: 8092\n",
            "Image ID: image | Captions: ['caption']\n",
            "Image ID: 1000268201_693b08cb0e.jpg | Captions: ['A child in a pink dress is climbing up a set of stairs in an entry way .', 'A girl going into a wooden building .', 'A little girl climbing into a wooden playhouse .', 'A little girl climbing the stairs to her playhouse .', 'A little girl in a pink dress going into a wooden cabin .']\n",
            "Image ID: 1001773457_577c3a7d70.jpg | Captions: ['A black dog and a spotted dog are fighting', 'A black dog and a tri-colored dog playing with each other on the road .', 'A black dog and a white dog with brown spots are staring at each other in the street .', 'Two dogs of different breeds looking at each other on the road .', 'Two dogs on pavement moving toward each other .']\n",
            "Image ID: 1002674143_1b742ab4b8.jpg | Captions: ['A little girl covered in paint sits in front of a painted rainbow with her hands in a bowl .', 'A little girl is sitting in front of a large painted rainbow .', 'A small girl in the grass plays with fingerpaints in front of a white canvas with a rainbow on it .', 'There is a girl with pigtails sitting in front of a rainbow painting .', 'Young girl with pigtails painting outside in the grass .']\n",
            "Image ID: 1003163366_44323f5815.jpg | Captions: ['A man lays on a bench while his dog sits by him .', 'A man lays on the bench to which a white dog is also tied .', 'a man sleeping on a bench outside with a white and black dog sitting next to him .', 'A shirtless man lies on a park bench with his dog .', 'man laying on bench holding leash of dog sitting on ground']\n"
          ]
        }
      ]
    },
    {
      "cell_type": "code",
      "source": [
        "from tensorflow.keras.preprocessing.text import Tokenizer\n",
        "from tensorflow.keras.preprocessing.sequence import pad_sequences\n",
        "\n",
        "# Flatten all captions into a list\n",
        "all_captions = [caption for caption_list in captions.values() for caption in caption_list]\n",
        "\n",
        "# Tokenize captions\n",
        "tokenizer = Tokenizer(num_words=5000, oov_token=\"<unk>\")\n",
        "tokenizer.fit_on_texts(all_captions)\n",
        "word_index = tokenizer.word_index\n",
        "vocab_size = len(word_index) + 1\n",
        "\n",
        "# Convert captions to sequences\n",
        "sequences = tokenizer.texts_to_sequences(all_captions)\n",
        "\n",
        "# Pad sequences\n",
        "max_length = max(len(seq) for seq in sequences)\n",
        "padded_sequences = pad_sequences(sequences, maxlen=max_length, padding=\"post\")\n"
      ],
      "metadata": {
        "id": "DIxTFYb6t8MA"
      },
      "execution_count": 7,
      "outputs": []
    },
    {
      "cell_type": "code",
      "source": [
        "# Load precomputed features\n",
        "features = np.load(\"image_features.npy\", allow_pickle=True).item()"
      ],
      "metadata": {
        "id": "M-nvAXQZMFt7"
      },
      "execution_count": 8,
      "outputs": []
    },
    {
      "cell_type": "code",
      "source": [
        "from tensorflow.keras.layers import Embedding, LSTM, Dense, Input, Dropout, add\n",
        "from tensorflow.keras.models import Model\n",
        "from tensorflow.keras.utils import to_categorical\n",
        "from sklearn.model_selection import train_test_split"
      ],
      "metadata": {
        "id": "6DBSNo6uldey"
      },
      "execution_count": 9,
      "outputs": []
    },
    {
      "cell_type": "code",
      "source": [
        "# Prepare inputs and targets for the RNN\n",
        "def create_data(features, captions, tokenizer, max_length):\n",
        "    X1, X2, y = [], [], []\n",
        "    for img_id, caption_list in captions.items():\n",
        "        feature = features.get(img_id)\n",
        "        if feature is None:\n",
        "            continue\n",
        "        for caption in caption_list:\n",
        "            seq = tokenizer.texts_to_sequences([caption])[0]\n",
        "            for i in range(1, len(seq)):\n",
        "                input_seq, output_seq = seq[:i], seq[i]\n",
        "                input_seq = pad_sequences([input_seq], maxlen=max_length, padding=\"post\")[0]\n",
        "                output_seq = to_categorical([output_seq], num_classes=vocab_size)[0]\n",
        "                X1.append(feature)\n",
        "                X2.append(input_seq)\n",
        "                y.append(output_seq)\n",
        "    return np.array(X1), np.array(X2), np.array(y)"
      ],
      "metadata": {
        "id": "wSJJCf3FlkJ2"
      },
      "execution_count": 10,
      "outputs": []
    },
    {
      "cell_type": "code",
      "source": [
        "# Split dataset into training and validation sets\n",
        "train_captions, val_captions = train_test_split(list(captions.items()), test_size=0.2, random_state=42)\n",
        "train_captions = dict(train_captions)\n",
        "val_captions = dict(val_captions)\n",
        "\n",
        "X1_train, X2_train, y_train = create_data(features, train_captions, tokenizer, max_length)\n",
        "X1_val, X2_val, y_val = create_data(features, val_captions, tokenizer, max_length)"
      ],
      "metadata": {
        "id": "czAhDtZEl-CL"
      },
      "execution_count": 11,
      "outputs": []
    },
    {
      "cell_type": "code",
      "source": [
        "# Define the RNN model\n",
        "def build_model(vocab_size, max_length):\n",
        "    # Image feature extractor\n",
        "    inputs1 = Input(shape=(2048,))\n",
        "    img_layer = Dropout(0.5)(inputs1)\n",
        "    img_layer = Dense(256, activation=\"relu\")(img_layer)\n",
        "\n",
        "    # Caption sequence processor\n",
        "    inputs2 = Input(shape=(max_length,))\n",
        "    caption_layer = Embedding(vocab_size, 256, mask_zero=True)(inputs2)\n",
        "    caption_layer = Dropout(0.5)(caption_layer)\n",
        "    caption_layer = LSTM(256)(caption_layer)\n",
        "\n",
        "    # Decoder (combining image and caption features)\n",
        "    decoder = add([img_layer, caption_layer])\n",
        "    decoder = Dense(256, activation=\"relu\")(decoder)\n",
        "    outputs = Dense(vocab_size, activation=\"softmax\")(decoder)\n",
        "\n",
        "    model = Model(inputs=[inputs1, inputs2], outputs=outputs)\n",
        "    return model"
      ],
      "metadata": {
        "id": "zl6r3CX2nysc"
      },
      "execution_count": 12,
      "outputs": []
    },
    {
      "cell_type": "code",
      "source": [
        "import tensorflow as tf\n",
        "\n",
        "def data_generator(features, captions, tokenizer, max_length, batch_size):\n",
        "    while True:\n",
        "        X1, X2, y = [], [], []\n",
        "        for img_id, caption_list in captions.items():\n",
        "            feature = np.squeeze(features.get(img_id))\n",
        "            for caption in caption_list:\n",
        "                seq = tokenizer.texts_to_sequences([caption])[0]\n",
        "                for i in range(1, len(seq)):\n",
        "                    input_seq, output_seq = seq[:i], seq[i]\n",
        "                    input_seq = pad_sequences([input_seq], maxlen=max_length, padding=\"post\")[0]\n",
        "                    output_seq = to_categorical([output_seq], num_classes=vocab_size)[0]\n",
        "                    X1.append(feature)\n",
        "                    X2.append(input_seq)\n",
        "                    y.append(output_seq)\n",
        "                    if len(X1) == batch_size:\n",
        "                        yield (np.array(X1), np.array(X2)), np.array(y)\n",
        "                        X1, X2, y = [], [], []\n",
        "\n",
        "# Define the output signature for the dataset\n",
        "output_signature = (\n",
        "    (tf.TensorSpec(shape=(None, 2048), dtype=tf.float32), tf.TensorSpec(shape=(None, max_length), dtype=tf.int32)),\n",
        "    tf.TensorSpec(shape=(None, vocab_size), dtype=tf.float32)\n",
        ")\n",
        "\n",
        "# Create datasets from generators\n",
        "train_dataset = tf.data.Dataset.from_generator(\n",
        "    lambda: data_generator(features, train_captions, tokenizer, max_length, batch_size=32),\n",
        "    output_signature=output_signature\n",
        ")\n",
        "\n",
        "val_dataset = tf.data.Dataset.from_generator(\n",
        "    lambda: data_generator(features, val_captions, tokenizer, max_length, batch_size=32),\n",
        "    output_signature=output_signature\n",
        ")"
      ],
      "metadata": {
        "id": "20W7hkZuqOVK"
      },
      "execution_count": 23,
      "outputs": []
    },
    {
      "cell_type": "code",
      "source": [
        "# Correctly initialize model and optimizer\n",
        "model = build_model(vocab_size, max_length)  # Ensure this builds all layers\n",
        "model.compile(loss=\"categorical_crossentropy\", optimizer=\"adam\", metrics=['accuracy'])"
      ],
      "metadata": {
        "id": "q1lEkfaGsDcx"
      },
      "execution_count": 26,
      "outputs": []
    },
    {
      "cell_type": "code",
      "source": [
        "history = model.fit(train_dataset,\n",
        "                    steps_per_epoch=len(train_captions) // 32,\n",
        "                    epochs=20,\n",
        "                    validation_data=val_dataset,\n",
        "                    validation_steps=len(val_captions) // 32)"
      ],
      "metadata": {
        "colab": {
          "base_uri": "https://localhost:8080/"
        },
        "id": "sN3g93FUr9Bh",
        "outputId": "f382f0c3-4909-4323-922e-29ae5bcbe406"
      },
      "execution_count": 27,
      "outputs": [
        {
          "output_type": "stream",
          "name": "stdout",
          "text": [
            "Epoch 1/20\n",
            "\u001b[1m202/202\u001b[0m \u001b[32m━━━━━━━━━━━━━━━━━━━━\u001b[0m\u001b[37m\u001b[0m \u001b[1m28s\u001b[0m 125ms/step - accuracy: 0.0732 - loss: 6.9001 - val_accuracy: 0.0988 - val_loss: 5.8868\n",
            "Epoch 2/20\n",
            "\u001b[1m202/202\u001b[0m \u001b[32m━━━━━━━━━━━━━━━━━━━━\u001b[0m\u001b[37m\u001b[0m \u001b[1m24s\u001b[0m 121ms/step - accuracy: 0.1227 - loss: 5.7387 - val_accuracy: 0.1350 - val_loss: 5.4521\n",
            "Epoch 3/20\n",
            "\u001b[1m202/202\u001b[0m \u001b[32m━━━━━━━━━━━━━━━━━━━━\u001b[0m\u001b[37m\u001b[0m \u001b[1m25s\u001b[0m 123ms/step - accuracy: 0.1365 - loss: 5.3962 - val_accuracy: 0.1600 - val_loss: 5.1622\n",
            "Epoch 4/20\n",
            "\u001b[1m202/202\u001b[0m \u001b[32m━━━━━━━━━━━━━━━━━━━━\u001b[0m\u001b[37m\u001b[0m \u001b[1m24s\u001b[0m 120ms/step - accuracy: 0.1709 - loss: 5.0931 - val_accuracy: 0.1825 - val_loss: 4.9767\n",
            "Epoch 5/20\n",
            "\u001b[1m202/202\u001b[0m \u001b[32m━━━━━━━━━━━━━━━━━━━━\u001b[0m\u001b[37m\u001b[0m \u001b[1m24s\u001b[0m 120ms/step - accuracy: 0.1659 - loss: 5.0614 - val_accuracy: 0.1912 - val_loss: 4.8505\n",
            "Epoch 6/20\n",
            "\u001b[1m202/202\u001b[0m \u001b[32m━━━━━━━━━━━━━━━━━━━━\u001b[0m\u001b[37m\u001b[0m \u001b[1m24s\u001b[0m 120ms/step - accuracy: 0.1783 - loss: 4.9106 - val_accuracy: 0.2000 - val_loss: 4.7484\n",
            "Epoch 7/20\n",
            "\u001b[1m202/202\u001b[0m \u001b[32m━━━━━━━━━━━━━━━━━━━━\u001b[0m\u001b[37m\u001b[0m \u001b[1m24s\u001b[0m 120ms/step - accuracy: 0.1976 - loss: 4.9716 - val_accuracy: 0.2181 - val_loss: 4.6638\n",
            "Epoch 8/20\n",
            "\u001b[1m202/202\u001b[0m \u001b[32m━━━━━━━━━━━━━━━━━━━━\u001b[0m\u001b[37m\u001b[0m \u001b[1m24s\u001b[0m 120ms/step - accuracy: 0.2089 - loss: 4.6951 - val_accuracy: 0.2163 - val_loss: 4.5531\n",
            "Epoch 9/20\n",
            "\u001b[1m202/202\u001b[0m \u001b[32m━━━━━━━━━━━━━━━━━━━━\u001b[0m\u001b[37m\u001b[0m \u001b[1m24s\u001b[0m 120ms/step - accuracy: 0.2103 - loss: 4.5423 - val_accuracy: 0.2313 - val_loss: 4.5298\n",
            "Epoch 10/20\n",
            "\u001b[1m202/202\u001b[0m \u001b[32m━━━━━━━━━━━━━━━━━━━━\u001b[0m\u001b[37m\u001b[0m \u001b[1m24s\u001b[0m 121ms/step - accuracy: 0.2323 - loss: 4.4811 - val_accuracy: 0.2375 - val_loss: 4.4696\n",
            "Epoch 11/20\n",
            "\u001b[1m202/202\u001b[0m \u001b[32m━━━━━━━━━━━━━━━━━━━━\u001b[0m\u001b[37m\u001b[0m \u001b[1m25s\u001b[0m 123ms/step - accuracy: 0.2172 - loss: 4.6146 - val_accuracy: 0.2350 - val_loss: 4.4531\n",
            "Epoch 12/20\n",
            "\u001b[1m202/202\u001b[0m \u001b[32m━━━━━━━━━━━━━━━━━━━━\u001b[0m\u001b[37m\u001b[0m \u001b[1m25s\u001b[0m 123ms/step - accuracy: 0.2283 - loss: 4.4506 - val_accuracy: 0.2412 - val_loss: 4.3953\n",
            "Epoch 13/20\n",
            "\u001b[1m202/202\u001b[0m \u001b[32m━━━━━━━━━━━━━━━━━━━━\u001b[0m\u001b[37m\u001b[0m \u001b[1m25s\u001b[0m 123ms/step - accuracy: 0.2263 - loss: 4.5452 - val_accuracy: 0.2369 - val_loss: 4.3742\n",
            "Epoch 14/20\n",
            "\u001b[1m202/202\u001b[0m \u001b[32m━━━━━━━━━━━━━━━━━━━━\u001b[0m\u001b[37m\u001b[0m \u001b[1m25s\u001b[0m 124ms/step - accuracy: 0.2250 - loss: 4.4198 - val_accuracy: 0.2438 - val_loss: 4.3325\n",
            "Epoch 15/20\n",
            "\u001b[1m202/202\u001b[0m \u001b[32m━━━━━━━━━━━━━━━━━━━━\u001b[0m\u001b[37m\u001b[0m \u001b[1m25s\u001b[0m 125ms/step - accuracy: 0.2296 - loss: 4.3502 - val_accuracy: 0.2475 - val_loss: 4.3120\n",
            "Epoch 16/20\n",
            "\u001b[1m202/202\u001b[0m \u001b[32m━━━━━━━━━━━━━━━━━━━━\u001b[0m\u001b[37m\u001b[0m \u001b[1m25s\u001b[0m 124ms/step - accuracy: 0.2265 - loss: 4.4796 - val_accuracy: 0.2463 - val_loss: 4.2582\n",
            "Epoch 17/20\n",
            "\u001b[1m202/202\u001b[0m \u001b[32m━━━━━━━━━━━━━━━━━━━━\u001b[0m\u001b[37m\u001b[0m \u001b[1m25s\u001b[0m 123ms/step - accuracy: 0.2490 - loss: 4.1737 - val_accuracy: 0.2481 - val_loss: 4.2523\n",
            "Epoch 18/20\n",
            "\u001b[1m202/202\u001b[0m \u001b[32m━━━━━━━━━━━━━━━━━━━━\u001b[0m\u001b[37m\u001b[0m \u001b[1m25s\u001b[0m 123ms/step - accuracy: 0.2486 - loss: 4.3018 - val_accuracy: 0.2581 - val_loss: 4.2053\n",
            "Epoch 19/20\n",
            "\u001b[1m202/202\u001b[0m \u001b[32m━━━━━━━━━━━━━━━━━━━━\u001b[0m\u001b[37m\u001b[0m \u001b[1m25s\u001b[0m 123ms/step - accuracy: 0.2184 - loss: 4.3648 - val_accuracy: 0.2425 - val_loss: 4.1793\n",
            "Epoch 20/20\n",
            "\u001b[1m202/202\u001b[0m \u001b[32m━━━━━━━━━━━━━━━━━━━━\u001b[0m\u001b[37m\u001b[0m \u001b[1m25s\u001b[0m 123ms/step - accuracy: 0.2529 - loss: 4.2055 - val_accuracy: 0.2506 - val_loss: 4.2021\n"
          ]
        }
      ]
    },
    {
      "cell_type": "code",
      "source": [
        "!pip install matplotlib\n",
        "import matplotlib.pyplot as plt\n",
        "\n",
        "# Plot training & validation accuracy values\n",
        "plt.plot(history.history['accuracy'])\n",
        "plt.plot(history.history['val_accuracy'])\n",
        "plt.title('Model accuracy')\n",
        "plt.ylabel('Accuracy')\n",
        "plt.xlabel('Epoch')\n",
        "plt.legend(['Train', 'Validation'], loc='upper left')\n",
        "plt.show()\n",
        "\n",
        "# Plot training & validation loss values\n",
        "plt.plot(history.history['loss'])\n",
        "plt.plot(history.history['val_loss'])\n",
        "plt.title('Model loss')\n",
        "plt.ylabel('Loss')\n",
        "plt.xlabel('Epoch')\n",
        "plt.legend(['Train', 'Validation'], loc='upper left')\n",
        "plt.show()"
      ],
      "metadata": {
        "colab": {
          "base_uri": "https://localhost:8080/",
          "height": 1000
        },
        "id": "VWU5io8As2Dc",
        "outputId": "7da5e062-1fd5-41f4-d458-d138bc964441"
      },
      "execution_count": 29,
      "outputs": [
        {
          "output_type": "stream",
          "name": "stdout",
          "text": [
            "Collecting matplotlib\n",
            "  Downloading matplotlib-3.9.3-cp310-cp310-win_amd64.whl.metadata (11 kB)\n",
            "Collecting contourpy>=1.0.1 (from matplotlib)\n",
            "  Downloading contourpy-1.3.1-cp310-cp310-win_amd64.whl.metadata (5.4 kB)\n",
            "Collecting cycler>=0.10 (from matplotlib)\n",
            "  Downloading cycler-0.12.1-py3-none-any.whl.metadata (3.8 kB)\n",
            "Collecting fonttools>=4.22.0 (from matplotlib)\n",
            "  Downloading fonttools-4.55.0-cp310-cp310-win_amd64.whl.metadata (167 kB)\n",
            "Collecting kiwisolver>=1.3.1 (from matplotlib)\n",
            "  Downloading kiwisolver-1.4.7-cp310-cp310-win_amd64.whl.metadata (6.4 kB)\n",
            "Requirement already satisfied: numpy>=1.23 in c:\\users\\omar kh\\miniconda3\\envs\\lab6and7\\lib\\site-packages (from matplotlib) (2.0.2)\n",
            "Requirement already satisfied: packaging>=20.0 in c:\\users\\omar kh\\miniconda3\\envs\\lab6and7\\lib\\site-packages (from matplotlib) (24.2)\n",
            "Collecting pillow>=8 (from matplotlib)\n",
            "  Downloading pillow-11.0.0-cp310-cp310-win_amd64.whl.metadata (9.3 kB)\n",
            "Collecting pyparsing>=2.3.1 (from matplotlib)\n",
            "  Downloading pyparsing-3.2.0-py3-none-any.whl.metadata (5.0 kB)\n",
            "Requirement already satisfied: python-dateutil>=2.7 in c:\\users\\omar kh\\miniconda3\\envs\\lab6and7\\lib\\site-packages (from matplotlib) (2.9.0.post0)\n",
            "Requirement already satisfied: six>=1.5 in c:\\users\\omar kh\\miniconda3\\envs\\lab6and7\\lib\\site-packages (from python-dateutil>=2.7->matplotlib) (1.16.0)\n",
            "Downloading matplotlib-3.9.3-cp310-cp310-win_amd64.whl (7.8 MB)\n",
            "   ---------------------------------------- 0.0/7.8 MB ? eta -:--:--\n",
            "   - -------------------------------------- 0.3/7.8 MB ? eta -:--:--\n",
            "   ----- ---------------------------------- 1.0/7.8 MB 3.0 MB/s eta 0:00:03\n",
            "   -------- ------------------------------- 1.6/7.8 MB 2.8 MB/s eta 0:00:03\n",
            "   --------- ------------------------------ 1.8/7.8 MB 2.5 MB/s eta 0:00:03\n",
            "   ---------- ----------------------------- 2.1/7.8 MB 2.2 MB/s eta 0:00:03\n",
            "   ------------- -------------------------- 2.6/7.8 MB 2.3 MB/s eta 0:00:03\n",
            "   -------------- ------------------------- 2.9/7.8 MB 2.2 MB/s eta 0:00:03\n",
            "   -------------- ------------------------- 2.9/7.8 MB 2.2 MB/s eta 0:00:03\n",
            "   ------------------ --------------------- 3.7/7.8 MB 2.0 MB/s eta 0:00:03\n",
            "   --------------------- ------------------ 4.2/7.8 MB 2.1 MB/s eta 0:00:02\n",
            "   ------------------------- -------------- 5.0/7.8 MB 2.2 MB/s eta 0:00:02\n",
            "   ---------------------------- ----------- 5.5/7.8 MB 2.2 MB/s eta 0:00:02\n",
            "   ------------------------------ --------- 6.0/7.8 MB 2.3 MB/s eta 0:00:01\n",
            "   --------------------------------- ------ 6.6/7.8 MB 2.3 MB/s eta 0:00:01\n",
            "   ------------------------------------ --- 7.1/7.8 MB 2.3 MB/s eta 0:00:01\n",
            "   -------------------------------------- - 7.6/7.8 MB 2.3 MB/s eta 0:00:01\n",
            "   -------------------------------------- - 7.6/7.8 MB 2.3 MB/s eta 0:00:01\n",
            "   ---------------------------------------- 7.8/7.8 MB 1.5 MB/s eta 0:00:00\n",
            "Downloading contourpy-1.3.1-cp310-cp310-win_amd64.whl (218 kB)\n",
            "Downloading cycler-0.12.1-py3-none-any.whl (8.3 kB)\n",
            "Downloading fonttools-4.55.0-cp310-cp310-win_amd64.whl (2.2 MB)\n",
            "   ---------------------------------------- 0.0/2.2 MB ? eta -:--:--\n",
            "   ---- ----------------------------------- 0.3/2.2 MB ? eta -:--:--\n",
            "   -------------- ------------------------- 0.8/2.2 MB 2.6 MB/s eta 0:00:01\n",
            "   ------------------ --------------------- 1.0/2.2 MB 2.4 MB/s eta 0:00:01\n",
            "   ---------------------------- ----------- 1.6/2.2 MB 2.0 MB/s eta 0:00:01\n",
            "   --------------------------------- ------ 1.8/2.2 MB 1.8 MB/s eta 0:00:01\n",
            "   ------------------------------------- -- 2.1/2.2 MB 1.8 MB/s eta 0:00:01\n",
            "   ------------------------------------- -- 2.1/2.2 MB 1.8 MB/s eta 0:00:01\n",
            "   ------------------------------------- -- 2.1/2.2 MB 1.8 MB/s eta 0:00:01\n",
            "   ------------------------------------- -- 2.1/2.2 MB 1.8 MB/s eta 0:00:01\n",
            "   ---------------------------------------- 2.2/2.2 MB 627.8 kB/s eta 0:00:00\n",
            "Downloading kiwisolver-1.4.7-cp310-cp310-win_amd64.whl (55 kB)\n",
            "Downloading pillow-11.0.0-cp310-cp310-win_amd64.whl (2.6 MB)\n",
            "   ---------------------------------------- 0.0/2.6 MB ? eta -:--:--\n",
            "   ---- ----------------------------------- 0.3/2.6 MB ? eta -:--:--\n",
            "   -------- ------------------------------- 0.5/2.6 MB 1.9 MB/s eta 0:00:02\n",
            "   ---------------- ----------------------- 1.0/2.6 MB 1.9 MB/s eta 0:00:01\n",
            "   -------------------- ------------------- 1.3/2.6 MB 2.0 MB/s eta 0:00:01\n",
            "   ---------------------------- ----------- 1.8/2.6 MB 2.0 MB/s eta 0:00:01\n",
            "   ------------------------------------ --- 2.4/2.6 MB 2.0 MB/s eta 0:00:01\n",
            "   ------------------------------------ --- 2.4/2.6 MB 2.0 MB/s eta 0:00:01\n",
            "   ------------------------------------ --- 2.4/2.6 MB 2.0 MB/s eta 0:00:01\n",
            "   ------------------------------------ --- 2.4/2.6 MB 2.0 MB/s eta 0:00:01\n",
            "   ---------------------------------------- 2.6/2.6 MB 1.1 MB/s eta 0:00:00\n",
            "Downloading pyparsing-3.2.0-py3-none-any.whl (106 kB)\n",
            "Installing collected packages: pyparsing, pillow, kiwisolver, fonttools, cycler, contourpy, matplotlib\n",
            "Successfully installed contourpy-1.3.1 cycler-0.12.1 fonttools-4.55.0 kiwisolver-1.4.7 matplotlib-3.9.3 pillow-11.0.0 pyparsing-3.2.0\n"
          ]
        },
        {
          "output_type": "stream",
          "name": "stderr",
          "text": [
            "Matplotlib is building the font cache; this may take a moment.\n"
          ]
        },
        {
          "output_type": "display_data",
          "data": {
            "text/plain": [
              "<Figure size 640x480 with 1 Axes>"
            ],
            "image/png": "[encoded data removed]"
          },
          "metadata": {}
        },
        {
          "output_type": "display_data",
          "data": {
            "text/plain": [
              "<Figure size 640x480 with 1 Axes>"
            ],
            "image/png": "[encoded data removed]"
          },
          "metadata": {}
        }
      ]
    },
    {
      "cell_type": "code",
      "source": [
        "# Remove the extra dimension from feature arrays\n",
        "X1_train = np.squeeze(X1_train, axis=1)\n",
        "X1_val = np.squeeze(X1_val, axis=1)\n",
        "\n",
        "# Train the model\n",
        "model.fit([X1_train, X2_train], y_train, epochs=20, batch_size=64, validation_data=([X1_val, X2_val], y_val))"
      ],
      "metadata": {
        "colab": {
          "base_uri": "https://localhost:8080/",
          "height": 592
        },
        "id": "Z0uhtDHIp1e6",
        "outputId": "f3e69f71-0303-4ee4-9d43-c90de997fa47"
      },
      "execution_count": 15,
      "outputs": [
        {
          "output_type": "error",
          "ename": "MemoryError",
          "evalue": "Unable to allocate 10.1 GiB for an array with shape (317985, 8496) and data type float32",
          "traceback": [
            "\u001b[1;31m---------------------------------------------------------------------------\u001b[0m",
            "\u001b[1;31mMemoryError\u001b[0m                               Traceback (most recent call last)",
            "Cell \u001b[1;32mIn[15], line 6\u001b[0m\n\u001b[0;32m      3\u001b[0m X1_val \u001b[38;5;241m=\u001b[39m np\u001b[38;5;241m.\u001b[39msqueeze(X1_val, axis\u001b[38;5;241m=\u001b[39m\u001b[38;5;241m1\u001b[39m)\n\u001b[0;32m      5\u001b[0m \u001b[38;5;66;03m# Train the model\u001b[39;00m\n\u001b[1;32m----> 6\u001b[0m \u001b[43mmodel\u001b[49m\u001b[38;5;241;43m.\u001b[39;49m\u001b[43mfit\u001b[49m\u001b[43m(\u001b[49m\u001b[43m[\u001b[49m\u001b[43mX1_train\u001b[49m\u001b[43m,\u001b[49m\u001b[43m \u001b[49m\u001b[43mX2_train\u001b[49m\u001b[43m]\u001b[49m\u001b[43m,\u001b[49m\u001b[43m \u001b[49m\u001b[43my_train\u001b[49m\u001b[43m,\u001b[49m\u001b[43m \u001b[49m\u001b[43mepochs\u001b[49m\u001b[38;5;241;43m=\u001b[39;49m\u001b[38;5;241;43m20\u001b[39;49m\u001b[43m,\u001b[49m\u001b[43m \u001b[49m\u001b[43mbatch_size\u001b[49m\u001b[38;5;241;43m=\u001b[39;49m\u001b[38;5;241;43m64\u001b[39;49m\u001b[43m,\u001b[49m\u001b[43m \u001b[49m\u001b[43mvalidation_data\u001b[49m\u001b[38;5;241;43m=\u001b[39;49m\u001b[43m(\u001b[49m\u001b[43m[\u001b[49m\u001b[43mX1_val\u001b[49m\u001b[43m,\u001b[49m\u001b[43m \u001b[49m\u001b[43mX2_val\u001b[49m\u001b[43m]\u001b[49m\u001b[43m,\u001b[49m\u001b[43m \u001b[49m\u001b[43my_val\u001b[49m\u001b[43m)\u001b[49m\u001b[43m)\u001b[49m\n",
            "File \u001b[1;32m~\\miniconda3\\envs\\lab6and7\\lib\\site-packages\\keras\\src\\utils\\traceback_utils.py:122\u001b[0m, in \u001b[0;36mfilter_traceback.<locals>.error_handler\u001b[1;34m(*args, **kwargs)\u001b[0m\n\u001b[0;32m    119\u001b[0m     filtered_tb \u001b[38;5;241m=\u001b[39m _process_traceback_frames(e\u001b[38;5;241m.\u001b[39m__traceback__)\n\u001b[0;32m    120\u001b[0m     \u001b[38;5;66;03m# To get the full stack trace, call:\u001b[39;00m\n\u001b[0;32m    121\u001b[0m     \u001b[38;5;66;03m# `keras.config.disable_traceback_filtering()`\u001b[39;00m\n\u001b[1;32m--> 122\u001b[0m     \u001b[38;5;28;01mraise\u001b[39;00m e\u001b[38;5;241m.\u001b[39mwith_traceback(filtered_tb) \u001b[38;5;28;01mfrom\u001b[39;00m \u001b[38;5;28;01mNone\u001b[39;00m\n\u001b[0;32m    123\u001b[0m \u001b[38;5;28;01mfinally\u001b[39;00m:\n\u001b[0;32m    124\u001b[0m     \u001b[38;5;28;01mdel\u001b[39;00m filtered_tb\n",
            "File \u001b[1;32m~\\miniconda3\\envs\\lab6and7\\lib\\site-packages\\tensorflow\\python\\framework\\constant_op.py:96\u001b[0m, in \u001b[0;36mconvert_to_eager_tensor\u001b[1;34m(value, ctx, dtype)\u001b[0m\n\u001b[0;32m     76\u001b[0m \u001b[38;5;250m\u001b[39m\u001b[38;5;124;03m\"\"\"Converts the given `value` to an `EagerTensor`.\u001b[39;00m\n\u001b[0;32m     77\u001b[0m \n\u001b[0;32m     78\u001b[0m \u001b[38;5;124;03mNote that this function could return cached copies of created constants for\u001b[39;00m\n\u001b[1;32m   (...)\u001b[0m\n\u001b[0;32m     90\u001b[0m \u001b[38;5;124;03m  TypeError: if `dtype` is not compatible with the type of t.\u001b[39;00m\n\u001b[0;32m     91\u001b[0m \u001b[38;5;124;03m\"\"\"\u001b[39;00m\n\u001b[0;32m     92\u001b[0m \u001b[38;5;28;01mif\u001b[39;00m \u001b[38;5;28misinstance\u001b[39m(value, np\u001b[38;5;241m.\u001b[39mndarray):\n\u001b[0;32m     93\u001b[0m   \u001b[38;5;66;03m# Make a copy explicitly because the EagerTensor might share the underlying\u001b[39;00m\n\u001b[0;32m     94\u001b[0m   \u001b[38;5;66;03m# memory with the input array. Without this copy, users will be able to\u001b[39;00m\n\u001b[0;32m     95\u001b[0m   \u001b[38;5;66;03m# modify the EagerTensor after its creation by changing the input array.\u001b[39;00m\n\u001b[1;32m---> 96\u001b[0m   value \u001b[38;5;241m=\u001b[39m \u001b[43mvalue\u001b[49m\u001b[38;5;241;43m.\u001b[39;49m\u001b[43mcopy\u001b[49m\u001b[43m(\u001b[49m\u001b[43m)\u001b[49m\n\u001b[0;32m     97\u001b[0m \u001b[38;5;28;01mif\u001b[39;00m \u001b[38;5;28misinstance\u001b[39m(value, ops\u001b[38;5;241m.\u001b[39mEagerTensor):\n\u001b[0;32m     98\u001b[0m   \u001b[38;5;28;01mif\u001b[39;00m dtype \u001b[38;5;129;01mis\u001b[39;00m \u001b[38;5;129;01mnot\u001b[39;00m \u001b[38;5;28;01mNone\u001b[39;00m \u001b[38;5;129;01mand\u001b[39;00m value\u001b[38;5;241m.\u001b[39mdtype \u001b[38;5;241m!=\u001b[39m dtype:\n",
            "\u001b[1;31mMemoryError\u001b[0m: Unable to allocate 10.1 GiB for an array with shape (317985, 8496) and data type float32"
          ]
        }
      ]
    },
    {
      "cell_type": "code",
      "source": [
        "# Train the model\n",
        "model.fit([X1_train, X2_train], y_train, epochs=20, batch_size=64, validation_data=([X1_val, X2_val], y_val))\n"
      ],
      "metadata": {
        "id": "5F73bNYJuDnl",
        "colab": {
          "base_uri": "https://localhost:8080/",
          "height": 523
        },
        "outputId": "52e3bbeb-abe6-4731-95f2-14666ac36d7e"
      },
      "execution_count": 14,
      "outputs": [
        {
          "output_type": "stream",
          "name": "stdout",
          "text": [
            "Epoch 1/20\n"
          ]
        },
        {
          "output_type": "error",
          "ename": "ValueError",
          "evalue": "Input 0 of layer \"functional_1\" is incompatible with the layer: expected shape=(None, 2048), found shape=(None, 1, 2048)",
          "traceback": [
            "\u001b[1;31m---------------------------------------------------------------------------\u001b[0m",
            "\u001b[1;31mValueError\u001b[0m                                Traceback (most recent call last)",
            "Cell \u001b[1;32mIn[14], line 2\u001b[0m\n\u001b[0;32m      1\u001b[0m \u001b[38;5;66;03m# Train the model\u001b[39;00m\n\u001b[1;32m----> 2\u001b[0m \u001b[43mmodel\u001b[49m\u001b[38;5;241;43m.\u001b[39;49m\u001b[43mfit\u001b[49m\u001b[43m(\u001b[49m\u001b[43m[\u001b[49m\u001b[43mX1_train\u001b[49m\u001b[43m,\u001b[49m\u001b[43m \u001b[49m\u001b[43mX2_train\u001b[49m\u001b[43m]\u001b[49m\u001b[43m,\u001b[49m\u001b[43m \u001b[49m\u001b[43my_train\u001b[49m\u001b[43m,\u001b[49m\u001b[43m \u001b[49m\u001b[43mepochs\u001b[49m\u001b[38;5;241;43m=\u001b[39;49m\u001b[38;5;241;43m20\u001b[39;49m\u001b[43m,\u001b[49m\u001b[43m \u001b[49m\u001b[43mbatch_size\u001b[49m\u001b[38;5;241;43m=\u001b[39;49m\u001b[38;5;241;43m64\u001b[39;49m\u001b[43m,\u001b[49m\u001b[43m \u001b[49m\u001b[43mvalidation_data\u001b[49m\u001b[38;5;241;43m=\u001b[39;49m\u001b[43m(\u001b[49m\u001b[43m[\u001b[49m\u001b[43mX1_val\u001b[49m\u001b[43m,\u001b[49m\u001b[43m \u001b[49m\u001b[43mX2_val\u001b[49m\u001b[43m]\u001b[49m\u001b[43m,\u001b[49m\u001b[43m \u001b[49m\u001b[43my_val\u001b[49m\u001b[43m)\u001b[49m\u001b[43m)\u001b[49m\n",
            "File \u001b[1;32m~\\miniconda3\\envs\\lab6and7\\lib\\site-packages\\keras\\src\\utils\\traceback_utils.py:122\u001b[0m, in \u001b[0;36mfilter_traceback.<locals>.error_handler\u001b[1;34m(*args, **kwargs)\u001b[0m\n\u001b[0;32m    119\u001b[0m     filtered_tb \u001b[38;5;241m=\u001b[39m _process_traceback_frames(e\u001b[38;5;241m.\u001b[39m__traceback__)\n\u001b[0;32m    120\u001b[0m     \u001b[38;5;66;03m# To get the full stack trace, call:\u001b[39;00m\n\u001b[0;32m    121\u001b[0m     \u001b[38;5;66;03m# `keras.config.disable_traceback_filtering()`\u001b[39;00m\n\u001b[1;32m--> 122\u001b[0m     \u001b[38;5;28;01mraise\u001b[39;00m e\u001b[38;5;241m.\u001b[39mwith_traceback(filtered_tb) \u001b[38;5;28;01mfrom\u001b[39;00m \u001b[38;5;28;01mNone\u001b[39;00m\n\u001b[0;32m    123\u001b[0m \u001b[38;5;28;01mfinally\u001b[39;00m:\n\u001b[0;32m    124\u001b[0m     \u001b[38;5;28;01mdel\u001b[39;00m filtered_tb\n",
            "File \u001b[1;32m~\\miniconda3\\envs\\lab6and7\\lib\\site-packages\\keras\\src\\layers\\input_spec.py:245\u001b[0m, in \u001b[0;36massert_input_compatibility\u001b[1;34m(input_spec, inputs, layer_name)\u001b[0m\n\u001b[0;32m    243\u001b[0m \u001b[38;5;28;01mif\u001b[39;00m spec_dim \u001b[38;5;129;01mis\u001b[39;00m \u001b[38;5;129;01mnot\u001b[39;00m \u001b[38;5;28;01mNone\u001b[39;00m \u001b[38;5;129;01mand\u001b[39;00m dim \u001b[38;5;129;01mis\u001b[39;00m \u001b[38;5;129;01mnot\u001b[39;00m \u001b[38;5;28;01mNone\u001b[39;00m:\n\u001b[0;32m    244\u001b[0m     \u001b[38;5;28;01mif\u001b[39;00m spec_dim \u001b[38;5;241m!=\u001b[39m dim:\n\u001b[1;32m--> 245\u001b[0m         \u001b[38;5;28;01mraise\u001b[39;00m \u001b[38;5;167;01mValueError\u001b[39;00m(\n\u001b[0;32m    246\u001b[0m             \u001b[38;5;124mf\u001b[39m\u001b[38;5;124m'\u001b[39m\u001b[38;5;124mInput \u001b[39m\u001b[38;5;132;01m{\u001b[39;00minput_index\u001b[38;5;132;01m}\u001b[39;00m\u001b[38;5;124m of layer \u001b[39m\u001b[38;5;124m\"\u001b[39m\u001b[38;5;132;01m{\u001b[39;00mlayer_name\u001b[38;5;132;01m}\u001b[39;00m\u001b[38;5;124m\"\u001b[39m\u001b[38;5;124m is \u001b[39m\u001b[38;5;124m'\u001b[39m\n\u001b[0;32m    247\u001b[0m             \u001b[38;5;124m\"\u001b[39m\u001b[38;5;124mincompatible with the layer: \u001b[39m\u001b[38;5;124m\"\u001b[39m\n\u001b[0;32m    248\u001b[0m             \u001b[38;5;124mf\u001b[39m\u001b[38;5;124m\"\u001b[39m\u001b[38;5;124mexpected shape=\u001b[39m\u001b[38;5;132;01m{\u001b[39;00mspec\u001b[38;5;241m.\u001b[39mshape\u001b[38;5;132;01m}\u001b[39;00m\u001b[38;5;124m, \u001b[39m\u001b[38;5;124m\"\u001b[39m\n\u001b[0;32m    249\u001b[0m             \u001b[38;5;124mf\u001b[39m\u001b[38;5;124m\"\u001b[39m\u001b[38;5;124mfound shape=\u001b[39m\u001b[38;5;132;01m{\u001b[39;00mshape\u001b[38;5;132;01m}\u001b[39;00m\u001b[38;5;124m\"\u001b[39m\n\u001b[0;32m    250\u001b[0m         )\n",
            "\u001b[1;31mValueError\u001b[0m: Input 0 of layer \"functional_1\" is incompatible with the layer: expected shape=(None, 2048), found shape=(None, 1, 2048)"
          ]
        }
      ]
    },
    {
      "cell_type": "code",
      "source": [],
      "metadata": {
        "id": "A1JvOinmuJUD"
      },
      "execution_count": null,
      "outputs": []
    }
  ]
}