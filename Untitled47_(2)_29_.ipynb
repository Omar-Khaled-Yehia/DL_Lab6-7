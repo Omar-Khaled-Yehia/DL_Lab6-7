{
  "nbformat": 4,
  "nbformat_minor": 0,
  "metadata": {
    "colab": {
      "provenance": [],
      "gpuType": "T4"
    },
    "kernelspec": {
      "name": "python3",
      "display_name": "Python 3"
    },
    "language_info": {
      "name": "python"
    },
    "accelerator": "GPU"
  },
  "cells": [
    {
      "cell_type": "code",
      "execution_count": 1,
      "metadata": {
        "colab": {
          "base_uri": "https://localhost:8080/"
        },
        "id": "fPAKhCmOhkuv",
        "outputId": "01e942ce-e4df-483c-be1b-4c38d93d1879"
      },
      "outputs": [
        {
          "output_type": "stream",
          "name": "stdout",
          "text": [
            "Requirement already satisfied: kagglehub in c:\\users\\omar kh\\miniconda3\\envs\\lab6and7\\lib\\site-packages (0.3.4)\n",
            "Requirement already satisfied: packaging in c:\\users\\omar kh\\miniconda3\\envs\\lab6and7\\lib\\site-packages (from kagglehub) (24.2)\n",
            "Requirement already satisfied: requests in c:\\users\\omar kh\\miniconda3\\envs\\lab6and7\\lib\\site-packages (from kagglehub) (2.32.3)\n",
            "Requirement already satisfied: tqdm in c:\\users\\omar kh\\miniconda3\\envs\\lab6and7\\lib\\site-packages (from kagglehub) (4.67.1)\n",
            "Requirement already satisfied: charset-normalizer<4,>=2 in c:\\users\\omar kh\\miniconda3\\envs\\lab6and7\\lib\\site-packages (from requests->kagglehub) (3.4.0)\n",
            "Requirement already satisfied: idna<4,>=2.5 in c:\\users\\omar kh\\miniconda3\\envs\\lab6and7\\lib\\site-packages (from requests->kagglehub) (3.10)\n",
            "Requirement already satisfied: urllib3<3,>=1.21.1 in c:\\users\\omar kh\\miniconda3\\envs\\lab6and7\\lib\\site-packages (from requests->kagglehub) (2.2.3)\n",
            "Requirement already satisfied: certifi>=2017.4.17 in c:\\users\\omar kh\\miniconda3\\envs\\lab6and7\\lib\\site-packages (from requests->kagglehub) (2024.8.30)\n",
            "Requirement already satisfied: colorama in c:\\users\\omar kh\\miniconda3\\envs\\lab6and7\\lib\\site-packages (from tqdm->kagglehub) (0.4.6)\n",
            "Path to dataset files: C:\\Users\\Omar Kh\\.cache\\kagglehub\\datasets\\adityajn105\\flickr8k\\versions\\1\n"
          ]
        }
      ],
      "source": [
        "# Install kagglehub to download the dataset\n",
        "!pip install kagglehub\n",
        "import kagglehub\n",
        "\n",
        "# Download Flickr8k dataset\n",
        "path = kagglehub.dataset_download(\"adityajn105/flickr8k\")\n",
        "print(\"Path to dataset files:\", path)\n"
      ]
    },
    {
      "cell_type": "code",
      "source": [
        "import os\n",
        "import cv2\n",
        "import numpy as np\n",
        "from tensorflow.keras.applications import InceptionV3\n",
        "from tensorflow.keras.applications.inception_v3 import preprocess_input\n",
        "from tensorflow.keras.models import Model\n",
        "from tensorflow.keras.preprocessing.image import img_to_array, load_img\n",
        "\n",
        "# Initialize InceptionV3 model pre-trained on ImageNet\n",
        "base_model = InceptionV3(weights=\"imagenet\")\n",
        "model = Model(inputs=base_model.input, outputs=base_model.layers[-2].output)"
      ],
      "metadata": {
        "id": "F2uIePx_IOYE"
      },
      "execution_count": 2,
      "outputs": []
    },
    {
      "cell_type": "code",
      "source": [
        "\n",
        "\n",
        "# # Define a function to preprocess and extract image features\n",
        "# def preprocess_image(image_path):\n",
        "#     img = load_img(image_path, target_size=(299, 299))  # Resize to InceptionV3 input size\n",
        "#     img = img_to_array(img)\n",
        "#     img = np.expand_dims(img, axis=0)\n",
        "#     img = preprocess_input(img)\n",
        "#     return img\n",
        "\n",
        "# def extract_features(directory):\n",
        "#     features = {}\n",
        "#     for img_name in os.listdir(directory):\n",
        "#         img_path = os.path.join(directory, img_name)\n",
        "#         try:\n",
        "#             img = preprocess_image(img_path)\n",
        "#             feature = model.predict(img, verbose=0)\n",
        "#             features[img_name] = feature\n",
        "#         except Exception as e:\n",
        "#             print(f\"Error processing {img_name}: {e}\")\n",
        "#     return features\n",
        "\n",
        "# # Extract features from Flickr8k images and save as numpy arrays\n",
        "# image_dir = os.path.join(path, \"Images\")\n",
        "# features = extract_features(image_dir)\n",
        "\n",
        "# # Save the extracted features for reuse\n",
        "# np.save(\"image_features.npy\", features)\n"
      ],
      "metadata": {
        "id": "bQvAsRO-hpbZ"
      },
      "execution_count": 3,
      "outputs": []
    },
    {
      "cell_type": "code",
      "source": [],
      "metadata": {
        "id": "tN8XFj0jvCyh"
      },
      "execution_count": 3,
      "outputs": []
    },
    {
      "cell_type": "code",
      "source": [
        "def clean_caption(caption):\n",
        "    import re\n",
        "    caption = caption.lower()\n",
        "    caption = re.sub(r'[^\\w\\s]', '', caption)\n",
        "    caption = re.sub(r'\\s+', ' ', caption)\n",
        "    return caption.strip()\n",
        "\n",
        "\n",
        "def load_captions(file_path):\n",
        "    captions = {}\n",
        "    with open(file_path, \"r\", encoding=\"utf-8\") as file:\n",
        "        for line in file:\n",
        "            line = line.strip()\n",
        "            if not line or \",\" not in line:  # Skip empty or malformed lines\n",
        "                print(\"Skipped line (empty or invalid):\", line)\n",
        "                continue\n",
        "            image_id, caption = line.split(\",\", 1)  # Split at the first comma\n",
        "            if image_id not in captions:\n",
        "                captions[image_id] = []\n",
        "            captions[image_id].append(caption.strip())\n",
        "    print(\"Number of processed captions:\", len(captions))\n",
        "    return captions\n",
        "\n",
        "\n",
        "# Load and clean captions\n",
        "captions_file = os.path.join(path, \"captions.txt\")\n",
        "captions = load_captions(captions_file)\n",
        "for image_id, caption_list in captions.items():\n",
        "    captions[image_id] = [clean_caption(c) for c in caption_list]\n",
        "\n",
        "# Add <start> and <end> tokens to captions\n",
        "for image_id in captions.keys():\n",
        "    captions[image_id] = [f\"<start> {c} <end>\" for c in captions[image_id]]\n",
        "\n",
        "print(\"Number of images with captions:\", len(captions))"
      ],
      "metadata": {
        "colab": {
          "base_uri": "https://localhost:8080/"
        },
        "id": "rNeBlfSkh1zs",
        "outputId": "cfe372dc-0f7d-4eba-81f1-b3241da7e863"
      },
      "execution_count": 4,
      "outputs": [
        {
          "output_type": "stream",
          "name": "stdout",
          "text": [
            "Number of processed captions: 8092\n",
            "Number of images with captions: 8092\n"
          ]
        }
      ]
    },
    {
      "cell_type": "code",
      "source": [
        "# with open(captions_file, \"r\", encoding=\"utf-8\") as file:\n",
        "#     for line in file:\n",
        "#         print(\"Raw line:\", line.strip())  # Debug raw lines\n"
      ],
      "metadata": {
        "collapsed": true,
        "id": "yEFl-ytXtcoo"
      },
      "execution_count": 5,
      "outputs": []
    },
    {
      "cell_type": "code",
      "source": [
        "captions_file = os.path.join(path, \"captions.txt\")\n",
        "captions = load_captions(captions_file)\n",
        "\n",
        "print(f\"Number of images with captions: {len(captions)}\")\n",
        "# Print a few examples to verify\n",
        "for image_id, caption_list in list(captions.items())[:5]:\n",
        "    print(f\"Image ID: {image_id} | Captions: {caption_list}\")\n"
      ],
      "metadata": {
        "colab": {
          "base_uri": "https://localhost:8080/"
        },
        "id": "ixlVC2Oite0p",
        "outputId": "338524af-53a3-46de-935b-84a817731457"
      },
      "execution_count": 6,
      "outputs": [
        {
          "output_type": "stream",
          "name": "stdout",
          "text": [
            "Number of processed captions: 8092\n",
            "Number of images with captions: 8092\n",
            "Image ID: image | Captions: ['caption']\n",
            "Image ID: 1000268201_693b08cb0e.jpg | Captions: ['A child in a pink dress is climbing up a set of stairs in an entry way .', 'A girl going into a wooden building .', 'A little girl climbing into a wooden playhouse .', 'A little girl climbing the stairs to her playhouse .', 'A little girl in a pink dress going into a wooden cabin .']\n",
            "Image ID: 1001773457_577c3a7d70.jpg | Captions: ['A black dog and a spotted dog are fighting', 'A black dog and a tri-colored dog playing with each other on the road .', 'A black dog and a white dog with brown spots are staring at each other in the street .', 'Two dogs of different breeds looking at each other on the road .', 'Two dogs on pavement moving toward each other .']\n",
            "Image ID: 1002674143_1b742ab4b8.jpg | Captions: ['A little girl covered in paint sits in front of a painted rainbow with her hands in a bowl .', 'A little girl is sitting in front of a large painted rainbow .', 'A small girl in the grass plays with fingerpaints in front of a white canvas with a rainbow on it .', 'There is a girl with pigtails sitting in front of a rainbow painting .', 'Young girl with pigtails painting outside in the grass .']\n",
            "Image ID: 1003163366_44323f5815.jpg | Captions: ['A man lays on a bench while his dog sits by him .', 'A man lays on the bench to which a white dog is also tied .', 'a man sleeping on a bench outside with a white and black dog sitting next to him .', 'A shirtless man lies on a park bench with his dog .', 'man laying on bench holding leash of dog sitting on ground']\n"
          ]
        }
      ]
    },
    {
      "cell_type": "code",
      "source": [
        "from tensorflow.keras.preprocessing.text import Tokenizer\n",
        "from tensorflow.keras.preprocessing.sequence import pad_sequences\n",
        "\n",
        "# Flatten all captions into a list\n",
        "all_captions = [caption for caption_list in captions.values() for caption in caption_list]\n",
        "\n",
        "# Tokenize captions\n",
        "tokenizer = Tokenizer(num_words=5000, oov_token=\"<unk>\")\n",
        "tokenizer.fit_on_texts(all_captions)\n",
        "word_index = tokenizer.word_index\n",
        "vocab_size = len(word_index) + 1\n",
        "\n",
        "# Convert captions to sequences\n",
        "sequences = tokenizer.texts_to_sequences(all_captions)\n",
        "\n",
        "# Pad sequences\n",
        "max_length = max(len(seq) for seq in sequences)\n",
        "padded_sequences = pad_sequences(sequences, maxlen=max_length, padding=\"post\")\n"
      ],
      "metadata": {
        "id": "DIxTFYb6t8MA"
      },
      "execution_count": 7,
      "outputs": []
    },
    {
      "cell_type": "code",
      "source": [
        "# Load precomputed features\n",
        "features = np.load(\"image_features.npy\", allow_pickle=True).item()"
      ],
      "metadata": {
        "id": "M-nvAXQZMFt7"
      },
      "execution_count": 8,
      "outputs": []
    },
    {
      "cell_type": "code",
      "source": [
        "from tensorflow.keras.layers import Embedding, LSTM, Dense, Input, Dropout, add, Bidirectional, Concatenate\n",
        "from tensorflow.keras.models import Model\n",
        "from tensorflow.keras.utils import to_categorical\n",
        "from sklearn.model_selection import train_test_split\n",
        "import tensorflow as tf\n",
        "import numpy as np"
      ],
      "metadata": {
        "id": "A1JvOinmuJUD"
      },
      "execution_count": 9,
      "outputs": []
    },
    {
      "cell_type": "code",
      "source": [
        "# Split dataset into training and test sets\n",
        "train_data, test_data = train_test_split(list(captions.items()), test_size=0.2, random_state=42)\n",
        "train_captions = dict(train_data)\n",
        "test_captions = dict(test_data)"
      ],
      "metadata": {
        "id": "2n3dAnuQ5M1x"
      },
      "execution_count": 10,
      "outputs": []
    },
    {
      "cell_type": "code",
      "source": [
        "def build_model(vocab_size, max_length):\n",
        "    # Image feature input\n",
        "    inputs1 = Input(shape=(2048,))\n",
        "    fe1 = Dropout(0.5)(inputs1)\n",
        "    fe2 = Dense(256, activation='relu')(fe1)\n",
        "\n",
        "    # Sequence input\n",
        "    inputs2 = Input(shape=(max_length,))\n",
        "    se1 = Embedding(vocab_size, 256, mask_zero=True)(inputs2)\n",
        "    se2 = Dropout(0.5)(se1)\n",
        "    se3 = LSTM(256)(se2)\n",
        "\n",
        "    # Decoder\n",
        "    decoder1 = add([fe2, se3])\n",
        "    decoder2 = Dense(256, activation='relu')(decoder1)\n",
        "    outputs = Dense(vocab_size, activation='softmax')(decoder2)\n",
        "\n",
        "    model = Model(inputs=[inputs1, inputs2], outputs=outputs)\n",
        "    return model"
      ],
      "metadata": {
        "id": "ZjMSl7jB5Sg9"
      },
      "execution_count": 11,
      "outputs": []
    },
    {
      "cell_type": "code",
      "source": [
        "# Create data generator\n",
        "def data_generator(features, captions, tokenizer, max_length, batch_size=32):\n",
        "    while True:\n",
        "        # Get random batch of image IDs\n",
        "        all_image_ids = list(captions.keys())\n",
        "        np.random.shuffle(all_image_ids)\n",
        "\n",
        "        X1, X2, y = [], [], []\n",
        "        for img_id in all_image_ids:\n",
        "            feature = features.get(img_id)\n",
        "            if feature is None:\n",
        "                continue\n",
        "\n",
        "            for caption in captions[img_id]:\n",
        "                seq = tokenizer.texts_to_sequences([caption])[0]\n",
        "                for i in range(1, len(seq)):\n",
        "                    input_seq = seq[:i]\n",
        "                    output_seq = seq[i]\n",
        "                    input_seq = pad_sequences([input_seq], maxlen=max_length, padding='post')[0]\n",
        "                    output_seq = to_categorical([output_seq], num_classes=vocab_size)[0]\n",
        "\n",
        "                    X1.append(feature)\n",
        "                    X2.append(input_seq)\n",
        "                    y.append(output_seq)\n",
        "\n",
        "                    if len(X1) == batch_size:\n",
        "                        yield [np.array(X1), np.array(X2)], np.array(y)\n",
        "                        X1, X2, y = [], [], []"
      ],
      "metadata": {
        "id": "ysitXG1n5QJ7"
      },
      "execution_count": 12,
      "outputs": []
    },
    {
      "cell_type": "code",
      "source": [
        "model = build_model(vocab_size, max_length)\n",
        "model.compile(loss='categorical_crossentropy', optimizer='adam', metrics=['accuracy'])"
      ],
      "metadata": {
        "id": "bFmQHo2z5U3U"
      },
      "execution_count": 13,
      "outputs": []
    },
    {
      "cell_type": "code",
      "source": [
        "def data_generator(features, captions, tokenizer, max_length, batch_size=32):\n",
        "    while True:\n",
        "        all_image_ids = list(captions.keys())\n",
        "        np.random.shuffle(all_image_ids)\n",
        "\n",
        "        X1, X2, y = [], [], []\n",
        "        for img_id in all_image_ids:\n",
        "            feature = features.get(img_id)\n",
        "            if feature is None:\n",
        "                continue\n",
        "\n",
        "            # Reshape feature to correct shape (2048,)\n",
        "            feature = feature.reshape(-1)  # Flatten to 1D array\n",
        "\n",
        "            for caption in captions[img_id]:\n",
        "                seq = tokenizer.texts_to_sequences([caption])[0]\n",
        "                for i in range(1, len(seq)):\n",
        "                    input_seq = seq[:i]\n",
        "                    output_seq = seq[i]\n",
        "                    input_seq = pad_sequences([input_seq], maxlen=max_length, padding='post')[0]\n",
        "                    output_seq = to_categorical([output_seq], num_classes=vocab_size)[0]\n",
        "\n",
        "                    X1.append(feature)\n",
        "                    X2.append(input_seq)\n",
        "                    y.append(output_seq)\n",
        "\n",
        "                    if len(X1) == batch_size:\n",
        "                        # Stack features into correct shape (batch_size, 2048)\n",
        "                        features_batch = np.stack(X1)\n",
        "                        sequences_batch = np.array(X2)\n",
        "                        targets_batch = np.array(y)\n",
        "                        yield (features_batch, sequences_batch), targets_batch\n",
        "                        X1, X2, y = [], [], []\n",
        "\n",
        "# Create output signature with correct shapes\n",
        "output_signature = (\n",
        "    (tf.TensorSpec(shape=(None, 2048), dtype=tf.float32),\n",
        "     tf.TensorSpec(shape=(None, max_length), dtype=tf.int32)),\n",
        "    tf.TensorSpec(shape=(None, vocab_size), dtype=tf.float32)\n",
        ")\n",
        "\n",
        "# Create datasets\n",
        "train_dataset = tf.data.Dataset.from_generator(\n",
        "    lambda: data_generator(features, train_captions, tokenizer, max_length, batch_size=32),\n",
        "    output_signature=output_signature\n",
        ")\n",
        "\n",
        "test_dataset = tf.data.Dataset.from_generator(\n",
        "    lambda: data_generator(features, test_captions, tokenizer, max_length, batch_size=32),\n",
        "    output_signature=output_signature\n",
        ")\n",
        "\n",
        "# Calculate steps\n",
        "train_steps = sum(len(captions[k]) for k in train_captions.keys()) // 32\n",
        "test_steps = sum(len(captions[k]) for k in test_captions.keys()) // 32"
      ],
      "metadata": {
        "id": "b9Dg26WB6aLM"
      },
      "execution_count": 33,
      "outputs": []
    },
    {
      "cell_type": "code",
      "source": [
        "# Train the model\n",
        "history = model.fit(\n",
        "    train_dataset,\n",
        "    steps_per_epoch=train_steps,\n",
        "    epochs=20,\n",
        "    validation_data=test_dataset,\n",
        "    validation_steps=test_steps\n",
        ")"
      ],
      "metadata": {
        "colab": {
          "base_uri": "https://localhost:8080/"
        },
        "id": "C9eVcReo886L",
        "outputId": "e0615e44-4ffd-4d45-9868-50019e6babea"
      },
      "execution_count": 34,
      "outputs": [
        {
          "output_type": "stream",
          "name": "stdout",
          "text": [
            "Epoch 1/20\n",
            "\u001b[1m1011/1011\u001b[0m \u001b[32m━━━━━━━━━━━━━━━━━━━━\u001b[0m\u001b[37m\u001b[0m \u001b[1m107s\u001b[0m 104ms/step - accuracy: 0.1122 - loss: 6.1429 - val_accuracy: 0.1968 - val_loss: 4.8553\n",
            "Epoch 2/20\n",
            "\u001b[1m1011/1011\u001b[0m \u001b[32m━━━━━━━━━━━━━━━━━━━━\u001b[0m\u001b[37m\u001b[0m \u001b[1m99s\u001b[0m 98ms/step - accuracy: 0.1961 - loss: 4.8384 - val_accuracy: 0.2279 - val_loss: 4.4402\n",
            "Epoch 3/20\n",
            "\u001b[1m1011/1011\u001b[0m \u001b[32m━━━━━━━━━━━━━━━━━━━━\u001b[0m\u001b[37m\u001b[0m \u001b[1m99s\u001b[0m 98ms/step - accuracy: 0.2300 - loss: 4.4815 - val_accuracy: 0.2520 - val_loss: 4.2390\n",
            "Epoch 4/20\n",
            "\u001b[1m1011/1011\u001b[0m \u001b[32m━━━━━━━━━━━━━━━━━━━━\u001b[0m\u001b[37m\u001b[0m \u001b[1m102s\u001b[0m 101ms/step - accuracy: 0.2350 - loss: 4.3790 - val_accuracy: 0.2502 - val_loss: 4.2241\n",
            "Epoch 5/20\n",
            "\u001b[1m1011/1011\u001b[0m \u001b[32m━━━━━━━━━━━━━━━━━━━━\u001b[0m\u001b[37m\u001b[0m \u001b[1m104s\u001b[0m 103ms/step - accuracy: 0.2596 - loss: 4.1077 - val_accuracy: 0.2649 - val_loss: 4.0001\n",
            "Epoch 6/20\n",
            "\u001b[1m1011/1011\u001b[0m \u001b[32m━━━━━━━━━━━━━━━━━━━━\u001b[0m\u001b[37m\u001b[0m \u001b[1m103s\u001b[0m 101ms/step - accuracy: 0.2455 - loss: 4.2335 - val_accuracy: 0.2629 - val_loss: 4.1013\n",
            "Epoch 7/20\n",
            "\u001b[1m1011/1011\u001b[0m \u001b[32m━━━━━━━━━━━━━━━━━━━━\u001b[0m\u001b[37m\u001b[0m \u001b[1m101s\u001b[0m 99ms/step - accuracy: 0.2648 - loss: 3.9799 - val_accuracy: 0.2684 - val_loss: 4.0061\n",
            "Epoch 8/20\n",
            "\u001b[1m1011/1011\u001b[0m \u001b[32m━━━━━━━━━━━━━━━━━━━━\u001b[0m\u001b[37m\u001b[0m \u001b[1m100s\u001b[0m 99ms/step - accuracy: 0.2791 - loss: 3.8672 - val_accuracy: 0.2972 - val_loss: 3.7674\n",
            "Epoch 9/20\n",
            "\u001b[1m1011/1011\u001b[0m \u001b[32m━━━━━━━━━━━━━━━━━━━━\u001b[0m\u001b[37m\u001b[0m \u001b[1m100s\u001b[0m 99ms/step - accuracy: 0.2716 - loss: 3.9837 - val_accuracy: 0.2842 - val_loss: 3.8949\n",
            "Epoch 10/20\n",
            "\u001b[1m1011/1011\u001b[0m \u001b[32m━━━━━━━━━━━━━━━━━━━━\u001b[0m\u001b[37m\u001b[0m \u001b[1m99s\u001b[0m 98ms/step - accuracy: 0.2685 - loss: 3.9608 - val_accuracy: 0.2752 - val_loss: 3.8747\n",
            "Epoch 11/20\n",
            "\u001b[1m1011/1011\u001b[0m \u001b[32m━━━━━━━━━━━━━━━━━━━━\u001b[0m\u001b[37m\u001b[0m \u001b[1m99s\u001b[0m 98ms/step - accuracy: 0.2816 - loss: 3.7181 - val_accuracy: 0.2835 - val_loss: 3.9139\n",
            "Epoch 12/20\n",
            "\u001b[1m1011/1011\u001b[0m \u001b[32m━━━━━━━━━━━━━━━━━━━━\u001b[0m\u001b[37m\u001b[0m \u001b[1m101s\u001b[0m 100ms/step - accuracy: 0.2918 - loss: 3.6131 - val_accuracy: 0.2881 - val_loss: 3.8662\n",
            "Epoch 13/20\n",
            "\u001b[1m1011/1011\u001b[0m \u001b[32m━━━━━━━━━━━━━━━━━━━━\u001b[0m\u001b[37m\u001b[0m \u001b[1m132s\u001b[0m 130ms/step - accuracy: 0.2826 - loss: 3.6456 - val_accuracy: 0.3008 - val_loss: 3.7303\n",
            "Epoch 14/20\n",
            "\u001b[1m1011/1011\u001b[0m \u001b[32m━━━━━━━━━━━━━━━━━━━━\u001b[0m\u001b[37m\u001b[0m \u001b[1m130s\u001b[0m 129ms/step - accuracy: 0.2953 - loss: 3.5712 - val_accuracy: 0.3041 - val_loss: 3.7603\n",
            "Epoch 15/20\n",
            "\u001b[1m1011/1011\u001b[0m \u001b[32m━━━━━━━━━━━━━━━━━━━━\u001b[0m\u001b[37m\u001b[0m \u001b[1m130s\u001b[0m 129ms/step - accuracy: 0.2928 - loss: 3.5974 - val_accuracy: 0.2923 - val_loss: 3.8493\n",
            "Epoch 16/20\n",
            "\u001b[1m1011/1011\u001b[0m \u001b[32m━━━━━━━━━━━━━━━━━━━━\u001b[0m\u001b[37m\u001b[0m \u001b[1m129s\u001b[0m 128ms/step - accuracy: 0.2955 - loss: 3.6052 - val_accuracy: 0.2971 - val_loss: 3.6840\n",
            "Epoch 17/20\n",
            "\u001b[1m1011/1011\u001b[0m \u001b[32m━━━━━━━━━━━━━━━━━━━━\u001b[0m\u001b[37m\u001b[0m \u001b[1m130s\u001b[0m 129ms/step - accuracy: 0.2953 - loss: 3.5452 - val_accuracy: 0.2932 - val_loss: 3.8179\n",
            "Epoch 18/20\n",
            "\u001b[1m1011/1011\u001b[0m \u001b[32m━━━━━━━━━━━━━━━━━━━━\u001b[0m\u001b[37m\u001b[0m \u001b[1m131s\u001b[0m 130ms/step - accuracy: 0.2844 - loss: 3.6631 - val_accuracy: 0.3036 - val_loss: 3.7872\n",
            "Epoch 19/20\n",
            "\u001b[1m1011/1011\u001b[0m \u001b[32m━━━━━━━━━━━━━━━━━━━━\u001b[0m\u001b[37m\u001b[0m \u001b[1m130s\u001b[0m 129ms/step - accuracy: 0.3010 - loss: 3.5663 - val_accuracy: 0.3013 - val_loss: 3.6472\n",
            "Epoch 20/20\n",
            "\u001b[1m1011/1011\u001b[0m \u001b[32m━━━━━━━━━━━━━━━━━━━━\u001b[0m\u001b[37m\u001b[0m \u001b[1m137s\u001b[0m 136ms/step - accuracy: 0.2925 - loss: 3.5820 - val_accuracy: 0.2986 - val_loss: 3.7939\n"
          ]
        }
      ]
    },
    {
      "cell_type": "code",
      "source": [
        "import matplotlib.pyplot as plt\n",
        "\n",
        "# Plot training & validation accuracy values\n",
        "plt.figure(figsize=(10, 5))\n",
        "plt.subplot(1, 2, 1)\n",
        "plt.plot(history.history['accuracy'])\n",
        "plt.plot(history.history['val_accuracy'])\n",
        "plt.title('Model accuracy')\n",
        "plt.ylabel('Accuracy')\n",
        "plt.xlabel('Epoch')\n",
        "plt.legend(['Train', 'Validation'], loc='upper left')\n",
        "\n",
        "# Plot training & validation loss values\n",
        "plt.subplot(1, 2, 2)\n",
        "plt.plot(history.history['loss'])\n",
        "plt.plot(history.history['val_loss'])\n",
        "plt.title('Model loss')\n",
        "plt.ylabel('Loss')\n",
        "plt.xlabel('Epoch')\n",
        "plt.legend(['Train', 'Validation'], loc='upper left')\n",
        "\n",
        "plt.tight_layout()\n",
        "plt.show()"
      ],
      "metadata": {
        "colab": {
          "base_uri": "https://localhost:8080/",
          "height": 507
        },
        "id": "XmeZEl0j8-LE",
        "outputId": "1d4d6885-016c-4fef-e5c4-1db189391692"
      },
      "execution_count": 35,
      "outputs": [
        {
          "output_type": "display_data",
          "data": {
            "text/plain": [
              "<Figure size 1000x500 with 2 Axes>"
            ],
            "image/png": "[encoded data removed]"
          },
          "metadata": {}
        }
      ]
    },
    {
      "cell_type": "code",
      "source": [],
      "metadata": {
        "id": "j3qETLo6F2cK"
      },
      "execution_count": null,
      "outputs": []
    }
  ]
}